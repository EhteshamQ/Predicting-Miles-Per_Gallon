{
 "cells": [
  {
   "cell_type": "markdown",
   "metadata": {
    "colab_type": "text",
    "id": "QWHHpbNCPWCk"
   },
   "source": [
    "Downloading Data"
   ]
  },
  {
   "cell_type": "code",
   "execution_count": 3,
   "metadata": {
    "colab": {
     "base_uri": "https://localhost:8080/",
     "height": 224
    },
    "colab_type": "code",
    "id": "uxs157U-OXwL",
    "outputId": "9330a1b8-3b99-4063-9032-8a59db8ec9f8"
   },
   "outputs": [
    {
     "name": "stderr",
     "output_type": "stream",
     "text": [
      "'wget' is not recognized as an internal or external command,\n",
      "operable program or batch file.\n"
     ]
    }
   ],
   "source": [
    "!wget \"http://archive.ics.uci.edu/ml/machine-learning-databases/auto-mpg/auto-mpg.data\""
   ]
  },
  {
   "cell_type": "code",
   "execution_count": null,
   "metadata": {
    "colab": {},
    "colab_type": "code",
    "id": "CMMTO2vYOe-_"
   },
   "outputs": [],
   "source": [
    "#utility libraries\n",
    "import numpy as np\n",
    "import pandas as pd\n",
    "import matplotlib.pyplot as plt\n",
    "import seaborn as sns\n",
    "#sklearn libraries\n",
    "from sklearn.model_selection import StratifiedShuffleSplit\n",
    "from sklearn.base import BaseEstimator , TransformerMixin\n",
    "from sklearn.pipeline import Pipeline\n",
    "\n",
    "#preprocessing sklearn libs\n",
    "from sklearn.impute import SimpleImputer\n",
    "from sklearn.preprocessing import StandardScaler , OneHotEncoder\n",
    "from sklearn.compose import ColumnTransformer\n",
    "\n",
    "#ignoring Warnings .\n",
    "import warnings\n",
    "warnings.filterwarnings('ignore')\n",
    "\n"
   ]
  },
  {
   "cell_type": "code",
   "execution_count": null,
   "metadata": {
    "colab": {},
    "colab_type": "code",
    "id": "KA8Pj3TjPTse"
   },
   "outputs": [],
   "source": [
    "cols = ['MPG' , 'Cylinders' , 'Displacement' , 'Horsepower' , 'Weight',\n",
    "       'Accleration' , 'Model Year' , 'Origin' ]\n",
    "\n",
    "df = pd.read_csv('auto-mpg.data' , names=cols , sep=' '  ,comment = '\\t',\n",
    "                 skipinitialspace = True)\n",
    "data = df.copy()\n",
    "#splitting Data using Stratified Shuffle Split\n",
    "split = StratifiedShuffleSplit(n_splits = 1 , test_size=0.2 , random_state=12)\n",
    "for train_index  , test_index in split.split(data , data['Cylinders']):\n",
    "  strat_train_set = data.loc[train_index]\n",
    "  strat_test_set = data.loc[test_index]\n"
   ]
  },
  {
   "cell_type": "markdown",
   "metadata": {
    "colab_type": "text",
    "id": "x6B2vHlYQirl"
   },
   "source": [
    "Creating Data Features and labels"
   ]
  },
  {
   "cell_type": "code",
   "execution_count": null,
   "metadata": {
    "colab": {
     "base_uri": "https://localhost:8080/",
     "height": 436
    },
    "colab_type": "code",
    "id": "0blDIikAQUrw",
    "outputId": "127b22c0-3267-46e4-f532-8a0e7dc6e740"
   },
   "outputs": [],
   "source": [
    "data = strat_train_set.drop('MPG' , axis = 1)\n",
    "data_labels = strat_train_set['MPG'].copy()\n",
    "data"
   ]
  },
  {
   "cell_type": "markdown",
   "metadata": {
    "colab_type": "text",
    "id": "usqmltC3Qn3U"
   },
   "source": [
    "Preprocessing Origin Column into Countries and Adding the Custom Attrribute Adder Class"
   ]
  },
  {
   "cell_type": "code",
   "execution_count": null,
   "metadata": {
    "colab": {},
    "colab_type": "code",
    "id": "0yFrH_GyQwRD"
   },
   "outputs": [],
   "source": [
    "def preprocess_origin_cols(df):\n",
    "  df['Origin'] = df['Origin'].map({1:'India' , 2:'USA' , 3:'Germany'})\n",
    "  return df"
   ]
  },
  {
   "cell_type": "code",
   "execution_count": null,
   "metadata": {
    "colab": {},
    "colab_type": "code",
    "id": "Is46CAYaQwa9"
   },
   "outputs": [],
   "source": [
    "#Adding Custom Attribute adder class\n",
    "acc_col , hpower_col , cyl_col = 4 , 2 , 0\n",
    "\n",
    "class CustomAttrAdder(BaseEstimator , TransformerMixin):\n",
    "  def __init__(self , acc_on_power=True):\n",
    "    self.acc_on_power = acc_on_power\n",
    "  \n",
    "  def fit(self , X , y=None):\n",
    "    return self\n",
    "  def transform(self , X):\n",
    "    acc_on_cyl = X[:, acc_col] / X[: , cyl_col]\n",
    "    if self.acc_on_power :\n",
    "      acc_on_power = X[: , acc_col]/X[: , hpower_col]\n",
    "      return np.c_[X , acc_on_power , acc_on_cyl]\n",
    "    \n",
    "    return np.c_[X , acc_on_cyl]"
   ]
  },
  {
   "cell_type": "markdown",
   "metadata": {
    "colab_type": "text",
    "id": "Sx-UDR8iUpt3"
   },
   "source": [
    "Creating 2 Functions to Preprocess Categroical Data and Numerical Data"
   ]
  },
  {
   "cell_type": "code",
   "execution_count": null,
   "metadata": {
    "colab": {},
    "colab_type": "code",
    "id": "TnNQHCxgQ5QU"
   },
   "outputs": [],
   "source": [
    "def num_pipeline_transformer(data):\n",
    "    '''\n",
    "    Function to process numerical transformations\n",
    "    Argument:\n",
    "        data: original dataframe \n",
    "    Returns:\n",
    "        num_attrs: numerical dataframe\n",
    "        num_pipeline: numerical pipeline object\n",
    "        \n",
    "    '''\n",
    "    numerics = ['float64', 'int64']\n",
    "\n",
    "    num_attrs = data.select_dtypes(include=numerics)\n",
    "\n",
    "    num_pipeline = Pipeline([\n",
    "        ('imputer', SimpleImputer(strategy=\"median\")),\n",
    "        ('attrs_adder', CustomAttrAdder()),\n",
    "        ('std_scaler', StandardScaler()),\n",
    "        ])\n",
    "    return num_attrs, num_pipeline\n",
    "\n",
    "\n",
    "def pipeline_transformer(data):\n",
    "    '''\n",
    "    Complete transformation pipeline for both\n",
    "    nuerical and categorical data.\n",
    "    \n",
    "    Argument:\n",
    "        data: original dataframe \n",
    "    Returns:\n",
    "        prepared_data: transformed data, ready to use\n",
    "    '''\n",
    "    cat_attrs = [\"Origin\"]\n",
    "    num_attrs, num_pipeline = num_pipeline_transformer(data)\n",
    "    full_pipeline = ColumnTransformer([\n",
    "        (\"num\", num_pipeline, list(num_attrs)),\n",
    "        (\"cat\", OneHotEncoder(), cat_attrs),\n",
    "        ])\n",
    "    prepared_data = full_pipeline.fit_transform(data)\n",
    "    return prepared_data"
   ]
  },
  {
   "cell_type": "markdown",
   "metadata": {
    "colab_type": "text",
    "id": "dj1-7s5cVfm9"
   },
   "source": [
    "Transforming Raw Data to Processed Data"
   ]
  },
  {
   "cell_type": "code",
   "execution_count": null,
   "metadata": {
    "colab": {
     "base_uri": "https://localhost:8080/",
     "height": 238
    },
    "colab_type": "code",
    "id": "q9NpfNOhQ5gz",
    "outputId": "96c72041-87a5-42dc-fe73-2dc121641890"
   },
   "outputs": [],
   "source": [
    "preprocessed_df = preprocess_origin_cols(data)\n",
    "processed_data = pipeline_transformer(preprocessed_df)\n",
    "processed_data"
   ]
  },
  {
   "cell_type": "code",
   "execution_count": null,
   "metadata": {
    "colab": {
     "base_uri": "https://localhost:8080/",
     "height": 51
    },
    "colab_type": "code",
    "id": "jqyl8fFmQ5Ic",
    "outputId": "a98fd5b7-353d-478d-f563-2605944d779b"
   },
   "outputs": [],
   "source": [
    "processed_data[0]"
   ]
  },
  {
   "cell_type": "markdown",
   "metadata": {
    "colab_type": "text",
    "id": "Sz6Gb_xEWjDl"
   },
   "source": [
    "## Using Different Kinds of Models\n",
    "1. Linear Regression\n",
    "2. Decision Tree\n",
    "3. Random Forest\n",
    "4. SVM Regressor"
   ]
  },
  {
   "cell_type": "markdown",
   "metadata": {
    "colab_type": "text",
    "id": "5ZWPrFH3A3uo"
   },
   "source": [
    "# 1. Linear Regression "
   ]
  },
  {
   "cell_type": "code",
   "execution_count": null,
   "metadata": {
    "colab": {
     "base_uri": "https://localhost:8080/",
     "height": 34
    },
    "colab_type": "code",
    "id": "1Cg2AsooWiZY",
    "outputId": "51897acb-b0c4-4728-d2fb-de447d9f4ffd"
   },
   "outputs": [],
   "source": [
    "from sklearn.linear_model import LinearRegression\n",
    "\n",
    "lin_reg = LinearRegression()\n",
    "lin_reg.fit(processed_data , data_labels)"
   ]
  },
  {
   "cell_type": "code",
   "execution_count": null,
   "metadata": {
    "colab": {
     "base_uri": "https://localhost:8080/",
     "height": 85
    },
    "colab_type": "code",
    "id": "yAGXPzQB-sJA",
    "outputId": "2fa5a211-8577-43a5-b10e-fd8ea7062a01"
   },
   "outputs": [],
   "source": [
    "data[45:55]['Origin'].value_counts()"
   ]
  },
  {
   "cell_type": "code",
   "execution_count": null,
   "metadata": {
    "colab": {
     "base_uri": "https://localhost:8080/",
     "height": 88
    },
    "colab_type": "code",
    "id": "J6dE55RCYeIw",
    "outputId": "e7d8ce85-6c95-4862-8544-7fa7a06867a4"
   },
   "outputs": [],
   "source": [
    "sample_data = data.iloc[45:55].copy()\n",
    "\n",
    "sample_labels = data_labels.iloc[45:55].copy()\n",
    "\n",
    "sample_data_processe = pipeline_transformer(sample_data)\n",
    "pred = lin_reg.predict(sample_data_processe)\n",
    "\n",
    "print('The Predicted Values are ' , pred)\n",
    "print('The Actual Values are ' , list(sample_labels))"
   ]
  },
  {
   "cell_type": "markdown",
   "metadata": {
    "colab_type": "text",
    "id": "R6NhtTSRAIIJ"
   },
   "source": [
    "Using Mean Squared Error\n"
   ]
  },
  {
   "cell_type": "code",
   "execution_count": null,
   "metadata": {
    "colab": {
     "base_uri": "https://localhost:8080/",
     "height": 34
    },
    "colab_type": "code",
    "id": "PxbLEAJUAHeI",
    "outputId": "07e5dc88-f993-4ad6-90a6-832923ef8c8f"
   },
   "outputs": [],
   "source": [
    "from sklearn.metrics import mean_squared_error as mse\n",
    "\n",
    "mpg_pred = lin_reg.predict(processed_data)\n",
    "lin_mse = mse(data_labels , mpg_pred)\n",
    "#finding Root Mean Squared Error\n",
    "\n",
    "lin_rmse = np.sqrt(lin_mse)\n",
    "lin_rmse"
   ]
  },
  {
   "cell_type": "markdown",
   "metadata": {
    "colab_type": "text",
    "id": "rHuVvvesA-Om"
   },
   "source": [
    "# 2. Decision Tree"
   ]
  },
  {
   "cell_type": "code",
   "execution_count": null,
   "metadata": {
    "colab": {
     "base_uri": "https://localhost:8080/",
     "height": 119
    },
    "colab_type": "code",
    "id": "nrqu04Hj_2pr",
    "outputId": "c74b68a6-0b91-45b4-a2bc-6d4be100f5ec"
   },
   "outputs": [],
   "source": [
    "from sklearn.tree import DecisionTreeRegressor\n",
    "\n",
    "dec_tree = DecisionTreeRegressor()\n",
    "dec_tree.fit(processed_data , data_labels)"
   ]
  },
  {
   "cell_type": "code",
   "execution_count": null,
   "metadata": {
    "colab": {
     "base_uri": "https://localhost:8080/",
     "height": 34
    },
    "colab_type": "code",
    "id": "YHwEZqTKBQqg",
    "outputId": "55386f77-ab83-46f3-b74c-28aec67a37f5"
   },
   "outputs": [],
   "source": [
    "pred = dec_tree.predict(processed_data)\n",
    "dtree_mse = mse(data_labels , pred)\n",
    "\n",
    "#rmse\n",
    "\n",
    "dtree_rmse = np.sqrt(dtree_mse)\n",
    "dtree_rmse #Model OverFits "
   ]
  },
  {
   "cell_type": "markdown",
   "metadata": {
    "colab_type": "text",
    "id": "tPpCVrwrBvPt"
   },
   "source": [
    "#Model Evaluation Using CV (K-Fold CV)"
   ]
  },
  {
   "cell_type": "code",
   "execution_count": null,
   "metadata": {
    "colab": {
     "base_uri": "https://localhost:8080/",
     "height": 51
    },
    "colab_type": "code",
    "id": "nDQQUPtoB-pf",
    "outputId": "6a6e4670-a398-48ac-a345-67d5c01ef6b9"
   },
   "outputs": [],
   "source": [
    "from sklearn.model_selection import cross_val_score\n",
    "\n",
    "scores = cross_val_score(dec_tree , processed_data , data_labels , cv = 10 , scoring = 'neg_mean_squared_error')\n",
    "\n",
    "tree_rmse_score = np.sqrt(-scores)\n",
    "tree_rmse_score"
   ]
  },
  {
   "cell_type": "code",
   "execution_count": null,
   "metadata": {
    "colab": {
     "base_uri": "https://localhost:8080/",
     "height": 34
    },
    "colab_type": "code",
    "id": "SQaGiyv-Ckcg",
    "outputId": "22ecd351-4c36-4825-8a8a-1ab52b7750ae"
   },
   "outputs": [],
   "source": [
    "#finding the mean rmse\n",
    "tree_rmse_score.mean()"
   ]
  },
  {
   "cell_type": "code",
   "execution_count": null,
   "metadata": {
    "colab": {
     "base_uri": "https://localhost:8080/",
     "height": 68
    },
    "colab_type": "code",
    "id": "iHHyDf7LCohV",
    "outputId": "7a82af91-0cf6-4854-a18e-99c9f09e49ad"
   },
   "outputs": [],
   "source": [
    "#Performing Cross_val_score on Linear Reg\n",
    "lin_cv_sc = cross_val_score(lin_reg , processed_data , data_labels , cv = 10 , scoring = 'neg_mean_squared_error')\n",
    "lin_rmse_cv = np.sqrt(-lin_cv_sc)\n",
    "print(lin_rmse_cv)\n",
    "lin_rmse_cv.mean()"
   ]
  },
  {
   "cell_type": "markdown",
   "metadata": {
    "colab_type": "text",
    "id": "ENhjUHTsDLP3"
   },
   "source": [
    "# 3. Random Forest (Ensemble Method)"
   ]
  },
  {
   "cell_type": "code",
   "execution_count": null,
   "metadata": {
    "colab": {
     "base_uri": "https://localhost:8080/",
     "height": 34
    },
    "colab_type": "code",
    "id": "D3rzcCgMDK9D",
    "outputId": "b494b088-c54c-432a-f8f1-707869b8904e"
   },
   "outputs": [],
   "source": [
    "from sklearn.ensemble import RandomForestRegressor\n",
    "\n",
    "forest = RandomForestRegressor()\n",
    "forest.fit(processed_data , data_labels)\n",
    "forest_cv_sc = cross_val_score(forest , processed_data , data_labels , cv = 10 , scoring = 'neg_mean_squared_error')\n",
    "for_rmse_cv = np.sqrt(-forest_cv_sc)\n",
    "for_rmse_cv.mean()\n"
   ]
  },
  {
   "cell_type": "markdown",
   "metadata": {
    "colab_type": "text",
    "id": "Lncmur47EInC"
   },
   "source": [
    "# 4. Support Vector Machine Regression"
   ]
  },
  {
   "cell_type": "code",
   "execution_count": null,
   "metadata": {
    "colab": {
     "base_uri": "https://localhost:8080/",
     "height": 34
    },
    "colab_type": "code",
    "id": "N9Kbp6xgDm7O",
    "outputId": "d391ffba-7983-44fe-dde6-fa5793bc8667"
   },
   "outputs": [],
   "source": [
    "from sklearn.svm import SVR\n",
    "\n",
    "svr = SVR(kernel = 'linear')\n",
    "svr.fit(processed_data , data_labels)\n",
    "svr_cv =  cross_val_score(svr ,  processed_data  , data_labels , cv=10 , scoring= 'neg_mean_squared_error')\n",
    "svr_rmse = np.sqrt(-svr_cv)\n",
    "svr_rmse.mean()"
   ]
  },
  {
   "cell_type": "markdown",
   "metadata": {
    "colab_type": "text",
    "id": "kkbIIorrE8hX"
   },
   "source": [
    "# HyperParameter Tuning "
   ]
  },
  {
   "cell_type": "code",
   "execution_count": null,
   "metadata": {
    "colab": {
     "base_uri": "https://localhost:8080/",
     "height": 34
    },
    "colab_type": "code",
    "id": "ZV5xeijzE_eH",
    "outputId": "c9fdd4df-5ddc-4779-c8b6-e394164b5fff"
   },
   "outputs": [],
   "source": [
    "from sklearn.model_selection import GridSearchCV\n",
    "\n",
    "param_grid = [\n",
    "              {'n_estimators':[3 , 10 , 30] , 'max_features':[2 , 4 , 6 , 8]},\n",
    "              {'bootstrap':[False] , 'n_estimators':[3 , 10] , 'max_features':[2 , 3 ,4 ]}\n",
    "\n",
    "]\n",
    "\n",
    "forest = RandomForestRegressor()\n",
    "\n",
    "grid_s = GridSearchCV(forest , param_grid , scoring = 'neg_mean_squared_error' , return_train_score = True , cv = 10)\n",
    "grid_s.fit(processed_data , data_labels)\n",
    "grid_s.best_params_"
   ]
  },
  {
   "cell_type": "code",
   "execution_count": null,
   "metadata": {
    "colab": {
     "base_uri": "https://localhost:8080/",
     "height": 323
    },
    "colab_type": "code",
    "id": "Hyiso3NTE_j1",
    "outputId": "2f9846d2-0fcc-47a4-8d02-0a35688022bd"
   },
   "outputs": [],
   "source": [
    "cv_scores = grid_s.cv_results_\n",
    "\n",
    "#print all Parameters with Score\n",
    "for mean_score , params in zip(cv_scores['mean_test_score'] , cv_scores['params']):\n",
    "  print(np.sqrt(-mean_score) , params)"
   ]
  },
  {
   "cell_type": "code",
   "execution_count": null,
   "metadata": {
    "colab": {
     "base_uri": "https://localhost:8080/",
     "height": 51
    },
    "colab_type": "code",
    "id": "otAFPudLMxLv",
    "outputId": "0e7d5130-3094-4096-c261-5aef410270a0"
   },
   "outputs": [],
   "source": [
    "feature_importances = grid_s.best_estimator_.feature_importances_\n",
    "feature_importances"
   ]
  },
  {
   "cell_type": "code",
   "execution_count": null,
   "metadata": {
    "colab": {
     "base_uri": "https://localhost:8080/",
     "height": 136
    },
    "colab_type": "code",
    "id": "jg53HFyhg1AD",
    "outputId": "bbd6bb94-d4b4-498c-d87e-2e37d20fa029"
   },
   "outputs": [],
   "source": [
    "extra_attrs = ['acc_on_power' , 'acc_on_cyl']\n",
    "numerics = ['float64' , 'int64']\n",
    "\n",
    "num_attrs = list(data.select_dtypes(include=numerics))\n",
    "\n",
    "attrs = num_attrs + extra_attrs\n",
    "\n",
    "sorted(zip(attrs , feature_importances) , reverse= True)"
   ]
  },
  {
   "cell_type": "markdown",
   "metadata": {
    "colab_type": "text",
    "id": "xN0eGiRqhTNu"
   },
   "source": [
    "#Selecting Estimator with best Params\n",
    "Testing on Test set"
   ]
  },
  {
   "cell_type": "code",
   "execution_count": 2,
   "metadata": {
    "colab": {
     "base_uri": "https://localhost:8080/",
     "height": 34
    },
    "colab_type": "code",
    "id": "8Tp7AYT4hQe6",
    "outputId": "14bb5c42-6276-4f81-9d6a-3bf124fc3e0c"
   },
   "outputs": [
    {
     "ename": "NameError",
     "evalue": "name 'grid_s' is not defined",
     "output_type": "error",
     "traceback": [
      "\u001b[1;31m---------------------------------------------------------------------------\u001b[0m",
      "\u001b[1;31mNameError\u001b[0m                                 Traceback (most recent call last)",
      "\u001b[1;32m<ipython-input-2-93830a463f05>\u001b[0m in \u001b[0;36m<module>\u001b[1;34m\u001b[0m\n\u001b[1;32m----> 1\u001b[1;33m \u001b[0mfinal_model\u001b[0m \u001b[1;33m=\u001b[0m \u001b[0mgrid_s\u001b[0m\u001b[1;33m.\u001b[0m\u001b[0mbest_estimator_\u001b[0m\u001b[1;33m\u001b[0m\u001b[1;33m\u001b[0m\u001b[0m\n\u001b[0m\u001b[0;32m      2\u001b[0m \u001b[1;33m\u001b[0m\u001b[0m\n\u001b[0;32m      3\u001b[0m \u001b[0mX_test\u001b[0m \u001b[1;33m=\u001b[0m \u001b[0mstrat_test_set\u001b[0m\u001b[1;33m.\u001b[0m\u001b[0mdrop\u001b[0m\u001b[1;33m(\u001b[0m\u001b[1;34m'MPG'\u001b[0m \u001b[1;33m,\u001b[0m \u001b[0maxis\u001b[0m \u001b[1;33m=\u001b[0m \u001b[1;36m1\u001b[0m\u001b[1;33m)\u001b[0m\u001b[1;33m\u001b[0m\u001b[1;33m\u001b[0m\u001b[0m\n\u001b[0;32m      4\u001b[0m \u001b[0my_test\u001b[0m \u001b[1;33m=\u001b[0m \u001b[0mstrat_test_set\u001b[0m\u001b[1;33m[\u001b[0m\u001b[1;34m'MPG'\u001b[0m\u001b[1;33m]\u001b[0m\u001b[1;33m.\u001b[0m\u001b[0mcopy\u001b[0m\u001b[1;33m(\u001b[0m\u001b[1;33m)\u001b[0m\u001b[1;33m\u001b[0m\u001b[1;33m\u001b[0m\u001b[0m\n\u001b[0;32m      5\u001b[0m \u001b[1;33m\u001b[0m\u001b[0m\n",
      "\u001b[1;31mNameError\u001b[0m: name 'grid_s' is not defined"
     ]
    }
   ],
   "source": [
    "final_model = grid_s.best_estimator_\n",
    "\n",
    "X_test = strat_test_set.drop('MPG' , axis = 1)\n",
    "y_test = strat_test_set['MPG'].copy()\n",
    "\n",
    "X_test_preprocessed = preprocess_origin_cols(X_test)\n",
    "X_test_prep = pipeline_transformer(X_test_preprocessed)\n",
    "\n",
    "final_preds = final_model.predict(X_test_prep)\n",
    "final_mse = mse(y_test , final_preds)\n",
    "rmse = np.sqrt(final_mse)\n",
    "rmse"
   ]
  },
  {
   "cell_type": "markdown",
   "metadata": {
    "colab_type": "text",
    "id": "EJUklOC3jAwJ"
   },
   "source": [
    "Function to Automate for Prediciton"
   ]
  },
  {
   "cell_type": "code",
   "execution_count": null,
   "metadata": {
    "colab": {},
    "colab_type": "code",
    "id": "-iMYv8qLjAb6"
   },
   "outputs": [],
   "source": [
    "def predict_mpg(config, model):\n",
    "    \n",
    "    if type(config) == dict:\n",
    "        df = pd.DataFrame(config)\n",
    "    else:\n",
    "        df = config\n",
    "    \n",
    "    preproc_df = preprocess_origin_cols(df)\n",
    "    prepared_df = pipeline_transformer(preproc_df)\n",
    "    y_pred = model.predict(prepared_df)\n",
    "    return y_pred"
   ]
  },
  {
   "cell_type": "code",
   "execution_count": null,
   "metadata": {
    "colab": {
     "base_uri": "https://localhost:8080/",
     "height": 34
    },
    "colab_type": "code",
    "id": "vxq7DkS-joys",
    "outputId": "f251525d-66f5-4744-e4c4-0fe342c12863"
   },
   "outputs": [],
   "source": [
    "##checking it on a random sample\n",
    "vehicle_config = {\n",
    "    'Cylinders': [4, 6, 8],\n",
    "    'Displacement': [155.0, 160.0, 165.5],\n",
    "    'Horsepower': [93.0, 130.0, 98.0],\n",
    "    'Weight': [2500.0, 3150.0, 2600.0],\n",
    "    'Acceleration': [15.0, 14.0, 16.0],\n",
    "    'Origin': [3, 2, 1]\n",
    "}\n",
    "\n",
    "predict_mpg(vehicle_config, final_model)"
   ]
  },
  {
   "cell_type": "markdown",
   "metadata": {
    "colab_type": "text",
    "id": "B3bOPIY7Pg8v"
   },
   "source": [
    "Saving The Model"
   ]
  },
  {
   "cell_type": "code",
   "execution_count": null,
   "metadata": {
    "colab": {},
    "colab_type": "code",
    "id": "FC3J2fKIM19A"
   },
   "outputs": [],
   "source": [
    "import pickle"
   ]
  },
  {
   "cell_type": "code",
   "execution_count": null,
   "metadata": {
    "colab": {},
    "colab_type": "code",
    "id": "O5tbFEUCPkb9"
   },
   "outputs": [],
   "source": [
    "#saving the model\n",
    "with open('model.bin' ,'wb') as f_out:\n",
    "  pickle.dump(final_model , f_out)\n",
    "  f_out.close()"
   ]
  },
  {
   "cell_type": "code",
   "execution_count": null,
   "metadata": {
    "colab": {
     "base_uri": "https://localhost:8080/",
     "height": 34
    },
    "colab_type": "code",
    "id": "kWByNJrQPvo3",
    "outputId": "a5b09e72-647a-4c49-dc0f-b772efd01642"
   },
   "outputs": [],
   "source": [
    "#loading the model and predciting\n",
    "with open('model.bin' , 'rb') as f_in:\n",
    "  model  = pickle.load(f_in)\n",
    "\n",
    "predict_mpg(vehicle_config , model)"
   ]
  }
 ],
 "metadata": {
  "colab": {
   "collapsed_sections": [],
   "name": "MPG Prediction - Models .ipynb",
   "provenance": []
  },
  "kernelspec": {
   "display_name": "Python 3",
   "language": "python",
   "name": "python3"
  },
  "language_info": {
   "codemirror_mode": {
    "name": "ipython",
    "version": 3
   },
   "file_extension": ".py",
   "mimetype": "text/x-python",
   "name": "python",
   "nbconvert_exporter": "python",
   "pygments_lexer": "ipython3",
   "version": "3.7.4"
  }
 },
 "nbformat": 4,
 "nbformat_minor": 1
}
